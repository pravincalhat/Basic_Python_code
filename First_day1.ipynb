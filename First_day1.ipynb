{
 "cells": [
  {
   "cell_type": "code",
   "execution_count": 4,
   "id": "182c9285-45af-4539-8801-39f82445f015",
   "metadata": {},
   "outputs": [
    {
     "data": {
      "text/plain": [
       "16"
      ]
     },
     "execution_count": 4,
     "metadata": {},
     "output_type": "execute_result"
    }
   ],
   "source": [
    "10 + 6"
   ]
  },
  {
   "cell_type": "code",
   "execution_count": 6,
   "id": "d1ee1c0a-aca6-49ca-94fc-6e2a82d77119",
   "metadata": {},
   "outputs": [
    {
     "data": {
      "text/plain": [
       "80"
      ]
     },
     "execution_count": 6,
     "metadata": {},
     "output_type": "execute_result"
    }
   ],
   "source": [
    "16 * 5 "
   ]
  },
  {
   "cell_type": "code",
   "execution_count": 8,
   "id": "3b0029bd-b18f-4ae3-8b51-89954d9eac5c",
   "metadata": {},
   "outputs": [
    {
     "name": "stdout",
     "output_type": "stream",
     "text": [
      "15\n",
      "80\n"
     ]
    }
   ],
   "source": [
    "print (10 + 5)\n",
    "print(16 * 5)"
   ]
  },
  {
   "cell_type": "markdown",
   "id": "070c8996-a17c-412a-8ae3-5efcb7c8fe93",
   "metadata": {},
   "source": [
    "# Hello "
   ]
  },
  {
   "cell_type": "markdown",
   "id": "96f9fd44-20b2-4a82-a6bd-526b3965dc79",
   "metadata": {},
   "source": [
    "Today we are going to learn data types topic"
   ]
  },
  {
   "cell_type": "code",
   "execution_count": null,
   "id": "811a8de2-c8f8-4fe1-b0d2-0c82cd12b6e8",
   "metadata": {},
   "outputs": [],
   "source": []
  }
 ],
 "metadata": {
  "kernelspec": {
   "display_name": "Python [conda env:base] *",
   "language": "python",
   "name": "conda-base-py"
  },
  "language_info": {
   "codemirror_mode": {
    "name": "ipython",
    "version": 3
   },
   "file_extension": ".py",
   "mimetype": "text/x-python",
   "name": "python",
   "nbconvert_exporter": "python",
   "pygments_lexer": "ipython3",
   "version": "3.12.7"
  }
 },
 "nbformat": 4,
 "nbformat_minor": 5
}
