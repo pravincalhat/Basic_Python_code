{
 "cells": [
  {
   "cell_type": "code",
   "execution_count": 4,
   "id": "334355c3-0523-40f8-9f06-537f32d3677e",
   "metadata": {},
   "outputs": [
    {
     "data": {
      "text/plain": [
       "10"
      ]
     },
     "execution_count": 4,
     "metadata": {},
     "output_type": "execute_result"
    }
   ],
   "source": [
    "5 * 2"
   ]
  },
  {
   "cell_type": "code",
   "execution_count": 8,
   "id": "ec7ed942-c7be-4ade-a15f-8e5bc560318c",
   "metadata": {},
   "outputs": [
    {
     "data": {
      "text/plain": [
       "2.0"
      ]
     },
     "execution_count": 8,
     "metadata": {},
     "output_type": "execute_result"
    }
   ],
   "source": [
    "10 / 5"
   ]
  },
  {
   "cell_type": "code",
   "execution_count": 10,
   "id": "f0dca980-04c7-49e5-9054-d69a25667952",
   "metadata": {},
   "outputs": [
    {
     "data": {
      "text/plain": [
       "7"
      ]
     },
     "execution_count": 10,
     "metadata": {},
     "output_type": "execute_result"
    }
   ],
   "source": [
    "5 + 2"
   ]
  },
  {
   "cell_type": "code",
   "execution_count": 12,
   "id": "8ef9bd96-3f80-4c24-b841-0c41084d6eda",
   "metadata": {},
   "outputs": [
    {
     "data": {
      "text/plain": [
       "7.5"
      ]
     },
     "execution_count": 12,
     "metadata": {},
     "output_type": "execute_result"
    }
   ],
   "source": [
    "5 + 2.5 "
   ]
  },
  {
   "cell_type": "code",
   "execution_count": 14,
   "id": "d7f5dd6f-51d8-477c-8623-cf4c703f8fcb",
   "metadata": {},
   "outputs": [
    {
     "ename": "NameError",
     "evalue": "name 'HELLO' is not defined",
     "output_type": "error",
     "traceback": [
      "\u001b[1;31m---------------------------------------------------------------------------\u001b[0m",
      "\u001b[1;31mNameError\u001b[0m                                 Traceback (most recent call last)",
      "Cell \u001b[1;32mIn[14], line 1\u001b[0m\n\u001b[1;32m----> 1\u001b[0m \u001b[38;5;241m5\u001b[39m \u001b[38;5;241m+\u001b[39m HELLO\n",
      "\u001b[1;31mNameError\u001b[0m: name 'HELLO' is not defined"
     ]
    }
   ],
   "source": [
    "5 + HELLO # Int + Str"
   ]
  },
  {
   "cell_type": "code",
   "execution_count": 16,
   "id": "57ec0d11-adb0-4ecd-8559-87e6fee26697",
   "metadata": {},
   "outputs": [
    {
     "data": {
      "text/plain": [
       "'HelloPyrhon'"
      ]
     },
     "execution_count": 16,
     "metadata": {},
     "output_type": "execute_result"
    }
   ],
   "source": [
    "'Hello' + 'Pyrhon' #  Str + Str"
   ]
  },
  {
   "cell_type": "code",
   "execution_count": 18,
   "id": "bc061ddb-ab07-4499-b8a7-b44da22f3090",
   "metadata": {},
   "outputs": [
    {
     "data": {
      "text/plain": [
       "'HelooHelooHelooHelooHeloo'"
      ]
     },
     "execution_count": 18,
     "metadata": {},
     "output_type": "execute_result"
    }
   ],
   "source": [
    "'Heloo' * 5"
   ]
  },
  {
   "cell_type": "code",
   "execution_count": 20,
   "id": "cb37310b-1271-401a-a3a3-adf6f7654a26",
   "metadata": {},
   "outputs": [
    {
     "data": {
      "text/plain": [
       "2.5"
      ]
     },
     "execution_count": 20,
     "metadata": {},
     "output_type": "execute_result"
    }
   ],
   "source": [
    "5 / 2"
   ]
  },
  {
   "cell_type": "code",
   "execution_count": 22,
   "id": "32ced904-cbac-4d3f-8e15-b814498b6905",
   "metadata": {},
   "outputs": [
    {
     "data": {
      "text/plain": [
       "'PythonHello'"
      ]
     },
     "execution_count": 22,
     "metadata": {},
     "output_type": "execute_result"
    }
   ],
   "source": [
    "'Python' + 'Hello'"
   ]
  },
  {
   "cell_type": "code",
   "execution_count": 26,
   "id": "6bf04f03-1963-4119-98dc-6b0efc97c16e",
   "metadata": {},
   "outputs": [
    {
     "data": {
      "text/plain": [
       "'Python Hello'"
      ]
     },
     "execution_count": 26,
     "metadata": {},
     "output_type": "execute_result"
    }
   ],
   "source": [
    "'Python ' + 'Hello'"
   ]
  },
  {
   "cell_type": "code",
   "execution_count": 30,
   "id": "633ffdc8-a514-4675-8463-6cb0aa46d10b",
   "metadata": {},
   "outputs": [
    {
     "data": {
      "text/plain": [
       "'Python Hello'"
      ]
     },
     "execution_count": 30,
     "metadata": {},
     "output_type": "execute_result"
    }
   ],
   "source": [
    "'Python'+ ' '+ 'Hello'"
   ]
  },
  {
   "cell_type": "code",
   "execution_count": 32,
   "id": "84b0fa1f-50c7-4c9c-87b6-b5a254207188",
   "metadata": {},
   "outputs": [
    {
     "data": {
      "text/plain": [
       "1"
      ]
     },
     "execution_count": 32,
     "metadata": {},
     "output_type": "execute_result"
    }
   ],
   "source": [
    "9 % 2"
   ]
  },
  {
   "cell_type": "code",
   "execution_count": 34,
   "id": "bb48e37e-0dd0-4c6c-80cc-0cf6d4c40030",
   "metadata": {},
   "outputs": [
    {
     "data": {
      "text/plain": [
       "4.5"
      ]
     },
     "execution_count": 34,
     "metadata": {},
     "output_type": "execute_result"
    }
   ],
   "source": [
    "9 / 2"
   ]
  },
  {
   "cell_type": "code",
   "execution_count": null,
   "id": "0eaac12d-2f42-418f-9b3a-12ddd0d5ac7d",
   "metadata": {},
   "outputs": [],
   "source": []
  },
  {
   "cell_type": "markdown",
   "id": "b0a85c45-4c2c-41a4-9c96-cc647956be46",
   "metadata": {},
   "source": [
    "# variable"
   ]
  },
  {
   "cell_type": "code",
   "execution_count": 39,
   "id": "a0aaafbf-312c-4f2e-8bb0-dfd76a541622",
   "metadata": {},
   "outputs": [],
   "source": [
    "# Variable is used for storing data types / object"
   ]
  },
  {
   "cell_type": "code",
   "execution_count": 21,
   "id": "acf14022-c688-4652-a4f1-ec7fee7e074c",
   "metadata": {},
   "outputs": [],
   "source": [
    "x = 5\n",
    "y = 5\n",
    "c = x + y"
   ]
  },
  {
   "cell_type": "code",
   "execution_count": 45,
   "id": "1020f39b-f499-4988-aaf8-190156c5d0c4",
   "metadata": {},
   "outputs": [
    {
     "data": {
      "text/plain": [
       "10"
      ]
     },
     "execution_count": 45,
     "metadata": {},
     "output_type": "execute_result"
    }
   ],
   "source": [
    "c"
   ]
  },
  {
   "cell_type": "code",
   "execution_count": 47,
   "id": "9e7c89ee-6ce2-4389-a2ba-a519499a5af4",
   "metadata": {},
   "outputs": [
    {
     "data": {
      "text/plain": [
       "50"
      ]
     },
     "execution_count": 47,
     "metadata": {},
     "output_type": "execute_result"
    }
   ],
   "source": [
    "x1 = 10\n",
    "x1 * y"
   ]
  },
  {
   "cell_type": "code",
   "execution_count": 3,
   "id": "af6f1b20-cd2f-446d-8192-cf4524955ba5",
   "metadata": {},
   "outputs": [],
   "source": [
    "x_1 = 100"
   ]
  },
  {
   "cell_type": "code",
   "execution_count": 5,
   "id": "9c4e3c66-382f-4734-a76e-50797730dec0",
   "metadata": {},
   "outputs": [
    {
     "data": {
      "text/plain": [
       "20.0"
      ]
     },
     "execution_count": 5,
     "metadata": {},
     "output_type": "execute_result"
    }
   ],
   "source": [
    "x_1 / 5"
   ]
  },
  {
   "cell_type": "code",
   "execution_count": 7,
   "id": "510975f0-8638-454e-beab-9b373bdc84e8",
   "metadata": {},
   "outputs": [],
   "source": [
    "a = \"Hello\""
   ]
  },
  {
   "cell_type": "code",
   "execution_count": 9,
   "id": "f789c887-9493-4b45-bcad-4d7f0d808331",
   "metadata": {},
   "outputs": [],
   "source": [
    "b = \"Python\""
   ]
  },
  {
   "cell_type": "code",
   "execution_count": 11,
   "id": "8440bf21-d023-4c62-add5-08aff58e1fab",
   "metadata": {},
   "outputs": [
    {
     "data": {
      "text/plain": [
       "'HelloPython'"
      ]
     },
     "execution_count": 11,
     "metadata": {},
     "output_type": "execute_result"
    }
   ],
   "source": [
    "a + b "
   ]
  },
  {
   "cell_type": "code",
   "execution_count": 13,
   "id": "d27fe663-ea78-49ad-92fd-3e88c1bccac1",
   "metadata": {},
   "outputs": [],
   "source": [
    "c = a + b"
   ]
  },
  {
   "cell_type": "code",
   "execution_count": 15,
   "id": "4920bf88-f7dc-42b8-8a8d-4c8dc796940a",
   "metadata": {},
   "outputs": [
    {
     "data": {
      "text/plain": [
       "'HelloPython'"
      ]
     },
     "execution_count": 15,
     "metadata": {},
     "output_type": "execute_result"
    }
   ],
   "source": [
    "c"
   ]
  },
  {
   "cell_type": "code",
   "execution_count": 17,
   "id": "0b9c3710-a9f4-4b86-83a7-96a6878c0b65",
   "metadata": {},
   "outputs": [
    {
     "data": {
      "text/plain": [
       "str"
      ]
     },
     "execution_count": 17,
     "metadata": {},
     "output_type": "execute_result"
    }
   ],
   "source": [
    "type (c)"
   ]
  },
  {
   "cell_type": "code",
   "execution_count": 25,
   "id": "3f61c5ef-13b9-4f11-9087-2dc543fdc08c",
   "metadata": {},
   "outputs": [
    {
     "data": {
      "text/plain": [
       "int"
      ]
     },
     "execution_count": 25,
     "metadata": {},
     "output_type": "execute_result"
    }
   ],
   "source": [
    "type (x)"
   ]
  },
  {
   "cell_type": "code",
   "execution_count": 27,
   "id": "211c953a-2a1c-4412-8110-f208ddc97ab0",
   "metadata": {},
   "outputs": [],
   "source": [
    "z = x_1 / 5"
   ]
  },
  {
   "cell_type": "code",
   "execution_count": 29,
   "id": "5a1d2c38-e050-4b8e-bcc6-aca788000518",
   "metadata": {},
   "outputs": [
    {
     "data": {
      "text/plain": [
       "20.0"
      ]
     },
     "execution_count": 29,
     "metadata": {},
     "output_type": "execute_result"
    }
   ],
   "source": [
    "z"
   ]
  },
  {
   "cell_type": "code",
   "execution_count": 31,
   "id": "57b93724-2c1c-4236-b552-5de6dd4f509b",
   "metadata": {},
   "outputs": [
    {
     "data": {
      "text/plain": [
       "float"
      ]
     },
     "execution_count": 31,
     "metadata": {},
     "output_type": "execute_result"
    }
   ],
   "source": [
    "type (z)"
   ]
  },
  {
   "cell_type": "code",
   "execution_count": 37,
   "id": "a2fd54ee-b112-4760-b050-42a4d3a5c696",
   "metadata": {},
   "outputs": [],
   "source": [
    "d = '5'"
   ]
  },
  {
   "cell_type": "code",
   "execution_count": 39,
   "id": "31f6d8db-0588-418c-8f26-46f4dde75023",
   "metadata": {},
   "outputs": [
    {
     "data": {
      "text/plain": [
       "str"
      ]
     },
     "execution_count": 39,
     "metadata": {},
     "output_type": "execute_result"
    }
   ],
   "source": [
    "type (d)"
   ]
  },
  {
   "cell_type": "code",
   "execution_count": null,
   "id": "93729122-d8cf-424c-abb9-361f2f6ec3be",
   "metadata": {},
   "outputs": [],
   "source": []
  },
  {
   "cell_type": "code",
   "execution_count": 42,
   "id": "d6deb99d-e8df-456a-a1e3-7405bda38812",
   "metadata": {},
   "outputs": [],
   "source": [
    "# Input from user"
   ]
  },
  {
   "cell_type": "code",
   "execution_count": null,
   "id": "388c8698-d3ea-49bf-b7aa-b2b5d9ac9606",
   "metadata": {},
   "outputs": [],
   "source": []
  },
  {
   "cell_type": "code",
   "execution_count": 44,
   "id": "8589d1b3-0620-4883-87d7-77f6c3dc8454",
   "metadata": {},
   "outputs": [
    {
     "name": "stdin",
     "output_type": "stream",
     "text": [
      "write your name Pravin\n"
     ]
    }
   ],
   "source": [
    "name = input (\"write your name\")"
   ]
  },
  {
   "cell_type": "code",
   "execution_count": 46,
   "id": "764345aa-a17a-4506-8b4c-b080a9da80b9",
   "metadata": {},
   "outputs": [
    {
     "data": {
      "text/plain": [
       "'Pravin'"
      ]
     },
     "execution_count": 46,
     "metadata": {},
     "output_type": "execute_result"
    }
   ],
   "source": [
    "name"
   ]
  },
  {
   "cell_type": "code",
   "execution_count": 52,
   "id": "9aed2db3-39c3-49a8-93f3-6d339e3089e7",
   "metadata": {},
   "outputs": [],
   "source": [
    "x = \"My name is \" + name"
   ]
  },
  {
   "cell_type": "code",
   "execution_count": 54,
   "id": "ddbd7751-90e3-4299-b826-b58b79e21ae9",
   "metadata": {},
   "outputs": [
    {
     "data": {
      "text/plain": [
       "'My name is Pravin'"
      ]
     },
     "execution_count": 54,
     "metadata": {},
     "output_type": "execute_result"
    }
   ],
   "source": [
    "x"
   ]
  },
  {
   "cell_type": "code",
   "execution_count": 60,
   "id": "1260d81b-56d6-47da-895d-75738ca67c9d",
   "metadata": {},
   "outputs": [
    {
     "name": "stdin",
     "output_type": "stream",
     "text": [
      "write your first name Pravin\n",
      "write your last name Alhat\n"
     ]
    }
   ],
   "source": [
    "first_name = input('write your first name')\n",
    "last_name = input('write your last name')\n",
    "full_name = first_name + ' ' + last_name"
   ]
  },
  {
   "cell_type": "code",
   "execution_count": 62,
   "id": "40e6ea0b-275e-4619-8b58-9d2bf4371b5d",
   "metadata": {},
   "outputs": [
    {
     "data": {
      "text/plain": [
       "'Pravin Alhat'"
      ]
     },
     "execution_count": 62,
     "metadata": {},
     "output_type": "execute_result"
    }
   ],
   "source": [
    "full_name"
   ]
  },
  {
   "cell_type": "code",
   "execution_count": null,
   "id": "13ba5039-b759-4942-b653-0ce6bd219eb2",
   "metadata": {},
   "outputs": [],
   "source": []
  },
  {
   "cell_type": "code",
   "execution_count": 64,
   "id": "0b6a4f14-6fdd-45d9-99cd-fac519861893",
   "metadata": {},
   "outputs": [
    {
     "name": "stdin",
     "output_type": "stream",
     "text": [
      "Enter your age 35\n"
     ]
    }
   ],
   "source": [
    "age = input ('Enter your age')"
   ]
  },
  {
   "cell_type": "code",
   "execution_count": 67,
   "id": "8312bdc0-388b-45f6-a5b9-3a39087d7c2b",
   "metadata": {},
   "outputs": [
    {
     "data": {
      "text/plain": [
       "'35'"
      ]
     },
     "execution_count": 67,
     "metadata": {},
     "output_type": "execute_result"
    }
   ],
   "source": [
    "age"
   ]
  },
  {
   "cell_type": "code",
   "execution_count": 69,
   "id": "7a85735d-a75d-4009-827c-dfee164dd879",
   "metadata": {},
   "outputs": [
    {
     "data": {
      "text/plain": [
       "str"
      ]
     },
     "execution_count": 69,
     "metadata": {},
     "output_type": "execute_result"
    }
   ],
   "source": [
    "type(age)"
   ]
  },
  {
   "cell_type": "code",
   "execution_count": null,
   "id": "34ef63dc-1e03-4b9c-9da0-a6ea8b6143e5",
   "metadata": {},
   "outputs": [],
   "source": []
  },
  {
   "cell_type": "code",
   "execution_count": 71,
   "id": "c4c9cefb-257a-4dcd-95fc-a18d29d91cf8",
   "metadata": {},
   "outputs": [
    {
     "name": "stdin",
     "output_type": "stream",
     "text": [
      "Write your age 36\n"
     ]
    }
   ],
   "source": [
    "age = int(input(\"Write your age\"))"
   ]
  },
  {
   "cell_type": "code",
   "execution_count": 73,
   "id": "e5b171c5-eed3-4e77-bda6-fcd7877112c2",
   "metadata": {},
   "outputs": [
    {
     "data": {
      "text/plain": [
       "36"
      ]
     },
     "execution_count": 73,
     "metadata": {},
     "output_type": "execute_result"
    }
   ],
   "source": [
    "age"
   ]
  },
  {
   "cell_type": "code",
   "execution_count": 75,
   "id": "4322a972-3470-42e9-8cf8-a05f6675f621",
   "metadata": {},
   "outputs": [
    {
     "data": {
      "text/plain": [
       "int"
      ]
     },
     "execution_count": 75,
     "metadata": {},
     "output_type": "execute_result"
    }
   ],
   "source": [
    "type(age)"
   ]
  },
  {
   "cell_type": "code",
   "execution_count": 81,
   "id": "42d14b68-810a-4876-98e5-85b2b8432022",
   "metadata": {},
   "outputs": [
    {
     "name": "stdin",
     "output_type": "stream",
     "text": [
      "Enter your height in cm 155.5\n"
     ]
    }
   ],
   "source": [
    "height = float(input(\"Enter your height in cm\"))"
   ]
  },
  {
   "cell_type": "code",
   "execution_count": 85,
   "id": "6147b5e2-0dd6-4259-a3a6-593ca00b47f5",
   "metadata": {},
   "outputs": [
    {
     "data": {
      "text/plain": [
       "155.5"
      ]
     },
     "execution_count": 85,
     "metadata": {},
     "output_type": "execute_result"
    }
   ],
   "source": [
    "height"
   ]
  },
  {
   "cell_type": "code",
   "execution_count": 87,
   "id": "08952a17-8303-4234-be3a-2cc742149e45",
   "metadata": {},
   "outputs": [
    {
     "name": "stdin",
     "output_type": "stream",
     "text": [
      " 11.4\n"
     ]
    },
    {
     "ename": "ValueError",
     "evalue": "invalid literal for int() with base 10: '11.4'",
     "output_type": "error",
     "traceback": [
      "\u001b[1;31m---------------------------------------------------------------------------\u001b[0m",
      "\u001b[1;31mValueError\u001b[0m                                Traceback (most recent call last)",
      "Cell \u001b[1;32mIn[87], line 1\u001b[0m\n\u001b[1;32m----> 1\u001b[0m x \u001b[38;5;241m=\u001b[39m \u001b[38;5;28mint\u001b[39m (\u001b[38;5;28minput\u001b[39m())\n",
      "\u001b[1;31mValueError\u001b[0m: invalid literal for int() with base 10: '11.4'"
     ]
    }
   ],
   "source": [
    "x = int (input())"
   ]
  },
  {
   "cell_type": "code",
   "execution_count": null,
   "id": "d3ede899-332a-41b5-9e49-995663508d11",
   "metadata": {},
   "outputs": [],
   "source": []
  },
  {
   "cell_type": "code",
   "execution_count": 101,
   "id": "ea024626-5411-4bc4-8513-283205c31190",
   "metadata": {},
   "outputs": [
    {
     "name": "stdin",
     "output_type": "stream",
     "text": [
      "Enter age 76\n"
     ]
    },
    {
     "name": "stdout",
     "output_type": "stream",
     "text": [
      "your age is: 76\n"
     ]
    }
   ],
   "source": [
    "age = int(input('Enter age'))\n",
    "print('your age is:',age)"
   ]
  },
  {
   "cell_type": "code",
   "execution_count": 103,
   "id": "d69f5015-44c4-4fa2-ae44-38ef657545ea",
   "metadata": {},
   "outputs": [
    {
     "data": {
      "text/plain": [
       "'Pravin'"
      ]
     },
     "execution_count": 103,
     "metadata": {},
     "output_type": "execute_result"
    }
   ],
   "source": [
    "first_name"
   ]
  },
  {
   "cell_type": "code",
   "execution_count": 107,
   "id": "4faad6f3-b589-437f-840e-d73342244fd2",
   "metadata": {},
   "outputs": [
    {
     "data": {
      "text/plain": [
       "('Your good name is', 'Pravin')"
      ]
     },
     "execution_count": 107,
     "metadata": {},
     "output_type": "execute_result"
    }
   ],
   "source": [
    "\"Your good name is\",first_name"
   ]
  },
  {
   "cell_type": "code",
   "execution_count": 109,
   "id": "9dc4033a-2dac-46d7-a0c0-010653187484",
   "metadata": {},
   "outputs": [
    {
     "name": "stdout",
     "output_type": "stream",
     "text": [
      "Your good name is Pravin\n"
     ]
    }
   ],
   "source": [
    "print(\"Your good name is\",first_name)"
   ]
  },
  {
   "cell_type": "code",
   "execution_count": 111,
   "id": "dfd60db8-5837-4c38-a2db-e6297fd8f366",
   "metadata": {},
   "outputs": [
    {
     "name": "stdin",
     "output_type": "stream",
     "text": [
      "Enter your name payal\n"
     ]
    },
    {
     "data": {
      "text/plain": [
       "str"
      ]
     },
     "execution_count": 111,
     "metadata": {},
     "output_type": "execute_result"
    }
   ],
   "source": [
    "name = (input('Enter your name'))\n",
    "type(name)"
   ]
  },
  {
   "cell_type": "code",
   "execution_count": null,
   "id": "e0e00da7-b6af-43f2-95da-fd638dab922f",
   "metadata": {},
   "outputs": [],
   "source": []
  }
 ],
 "metadata": {
  "kernelspec": {
   "display_name": "Python [conda env:base] *",
   "language": "python",
   "name": "conda-base-py"
  },
  "language_info": {
   "codemirror_mode": {
    "name": "ipython",
    "version": 3
   },
   "file_extension": ".py",
   "mimetype": "text/x-python",
   "name": "python",
   "nbconvert_exporter": "python",
   "pygments_lexer": "ipython3",
   "version": "3.12.7"
  }
 },
 "nbformat": 4,
 "nbformat_minor": 5
}
