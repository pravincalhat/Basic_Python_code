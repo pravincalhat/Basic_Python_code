{
 "cells": [
  {
   "cell_type": "markdown",
   "id": "dc61504f-3685-4827-9065-ea23d061b76c",
   "metadata": {},
   "source": [
    "# Data Types in Python"
   ]
  },
  {
   "cell_type": "markdown",
   "id": "9eaf4886-94b5-4dfa-9985-b83f1fa2376c",
   "metadata": {},
   "source": [
    "# Integer"
   ]
  },
  {
   "cell_type": "raw",
   "id": "01d586df-8218-4f0f-a7e0-f50431349c5e",
   "metadata": {},
   "source": [
    "Complete Number\n",
    "Ex: How many family memebers you have ?\n",
    "------> 3, 4 ,6"
   ]
  },
  {
   "cell_type": "code",
   "execution_count": 17,
   "id": "2fd7f803-c71c-4040-a3a6-9e8b9670e9dd",
   "metadata": {},
   "outputs": [
    {
     "data": {
      "text/plain": [
       "int"
      ]
     },
     "execution_count": 17,
     "metadata": {},
     "output_type": "execute_result"
    }
   ],
   "source": [
    "type(5)"
   ]
  },
  {
   "cell_type": "code",
   "execution_count": 19,
   "id": "fdc55a0b-0b88-4f3c-a15d-40ac0bff1f1d",
   "metadata": {},
   "outputs": [
    {
     "data": {
      "text/plain": [
       "int"
      ]
     },
     "execution_count": 19,
     "metadata": {},
     "output_type": "execute_result"
    }
   ],
   "source": [
    "type(3486238)"
   ]
  },
  {
   "cell_type": "code",
   "execution_count": null,
   "id": "09d9c43b-02f4-4ebb-ace6-7ad0d3f580a7",
   "metadata": {},
   "outputs": [],
   "source": []
  },
  {
   "cell_type": "markdown",
   "id": "fe9f4300-f47a-4653-a1ae-8b2742337f75",
   "metadata": {},
   "source": [
    "# Float"
   ]
  },
  {
   "cell_type": "raw",
   "id": "8eaded71-25c6-4139-b66c-073f4260c934",
   "metadata": {},
   "source": [
    "values in decimal format\n",
    "Ex Height\n",
    "------> 6.4, 3.8"
   ]
  },
  {
   "cell_type": "code",
   "execution_count": 23,
   "id": "b02fee6a-38bd-482d-96cf-7601662b1774",
   "metadata": {},
   "outputs": [
    {
     "data": {
      "text/plain": [
       "6.5"
      ]
     },
     "execution_count": 23,
     "metadata": {},
     "output_type": "execute_result"
    }
   ],
   "source": [
    "6.5"
   ]
  },
  {
   "cell_type": "code",
   "execution_count": 25,
   "id": "b492599e-f459-4e54-a337-f7cbf96aaf4b",
   "metadata": {},
   "outputs": [
    {
     "data": {
      "text/plain": [
       "float"
      ]
     },
     "execution_count": 25,
     "metadata": {},
     "output_type": "execute_result"
    }
   ],
   "source": [
    "type(6.5)"
   ]
  },
  {
   "cell_type": "code",
   "execution_count": 27,
   "id": "6c20c6e4-063d-450a-826a-f175127dfbd9",
   "metadata": {},
   "outputs": [
    {
     "data": {
      "text/plain": [
       "float"
      ]
     },
     "execution_count": 27,
     "metadata": {},
     "output_type": "execute_result"
    }
   ],
   "source": [
    "type(4.55)"
   ]
  },
  {
   "cell_type": "code",
   "execution_count": null,
   "id": "2ec67baa-184b-4cc8-bef0-2157e1973df2",
   "metadata": {},
   "outputs": [],
   "source": []
  },
  {
   "cell_type": "markdown",
   "id": "c9e62362-4c68-44ae-b480-fc59bbd5add9",
   "metadata": {},
   "source": [
    "# Complex Numbers"
   ]
  },
  {
   "cell_type": "raw",
   "id": "e6c3e025-e306-42e3-8ee6-cd2007a0a993",
   "metadata": {},
   "source": [
    "Values in vector"
   ]
  },
  {
   "cell_type": "code",
   "execution_count": 31,
   "id": "8ca4765f-b66d-4b72-a7bf-9b1e72d492f8",
   "metadata": {},
   "outputs": [
    {
     "data": {
      "text/plain": [
       "(10+5j)"
      ]
     },
     "execution_count": 31,
     "metadata": {},
     "output_type": "execute_result"
    }
   ],
   "source": [
    "(10+5j)"
   ]
  },
  {
   "cell_type": "code",
   "execution_count": 33,
   "id": "05e11b6d-2dac-4fa6-8eec-cd19805ab50e",
   "metadata": {},
   "outputs": [
    {
     "data": {
      "text/plain": [
       "complex"
      ]
     },
     "execution_count": 33,
     "metadata": {},
     "output_type": "execute_result"
    }
   ],
   "source": [
    "type(10+5j)"
   ]
  },
  {
   "cell_type": "code",
   "execution_count": null,
   "id": "0d892463-57e1-41c9-8d12-633604164d8d",
   "metadata": {},
   "outputs": [],
   "source": []
  },
  {
   "cell_type": "markdown",
   "id": "53acaccc-4bfb-46e3-af35-4d91908fb963",
   "metadata": {},
   "source": [
    "# String"
   ]
  },
  {
   "cell_type": "raw",
   "id": "ab93041a-8fce-4624-a900-37ebe3d79c7f",
   "metadata": {},
   "source": [
    "Words, char, sentences\n",
    "'', \"\""
   ]
  },
  {
   "cell_type": "code",
   "execution_count": null,
   "id": "14ffa2a2-9788-4ffd-b754-4338c70bc076",
   "metadata": {},
   "outputs": [],
   "source": []
  },
  {
   "cell_type": "code",
   "execution_count": 42,
   "id": "474f71d4-d9c1-4627-8029-5f370a643365",
   "metadata": {},
   "outputs": [
    {
     "data": {
      "text/plain": [
       "'Hello Python'"
      ]
     },
     "execution_count": 42,
     "metadata": {},
     "output_type": "execute_result"
    }
   ],
   "source": [
    "'Hello Python'"
   ]
  },
  {
   "cell_type": "code",
   "execution_count": 44,
   "id": "f1e24809-98b6-4274-9394-97e4ca533aa6",
   "metadata": {},
   "outputs": [
    {
     "data": {
      "text/plain": [
       "'Hello'"
      ]
     },
     "execution_count": 44,
     "metadata": {},
     "output_type": "execute_result"
    }
   ],
   "source": [
    "\"Hello\""
   ]
  },
  {
   "cell_type": "code",
   "execution_count": 46,
   "id": "69bcf9f8-e79d-417e-846e-d98402eeeee7",
   "metadata": {},
   "outputs": [
    {
     "data": {
      "text/plain": [
       "'Today  we are learning data types in python'"
      ]
     },
     "execution_count": 46,
     "metadata": {},
     "output_type": "execute_result"
    }
   ],
   "source": [
    "\"Today  we are learning data types in python\""
   ]
  },
  {
   "cell_type": "code",
   "execution_count": 48,
   "id": "6214ae69-dd8f-4988-9cb6-ed58d45feab1",
   "metadata": {},
   "outputs": [
    {
     "data": {
      "text/plain": [
       "'This is my first line\\nThis is my second line'"
      ]
     },
     "execution_count": 48,
     "metadata": {},
     "output_type": "execute_result"
    }
   ],
   "source": [
    "'''This is my first line\n",
    "This is my second line'''"
   ]
  },
  {
   "cell_type": "code",
   "execution_count": null,
   "id": "7bd6c601-759c-41ae-918b-fda620dc32b2",
   "metadata": {},
   "outputs": [],
   "source": []
  },
  {
   "cell_type": "markdown",
   "id": "9bca2f53-ee74-4a95-8f8b-751666bf2c49",
   "metadata": {},
   "source": [
    "# boolean values"
   ]
  },
  {
   "cell_type": "raw",
   "id": "380645b3-1d10-4572-9c0c-a0eff5460991",
   "metadata": {},
   "source": [
    "True or False"
   ]
  },
  {
   "cell_type": "code",
   "execution_count": 53,
   "id": "6cab2901-2eb9-423d-80a4-3e0af80d22e6",
   "metadata": {},
   "outputs": [
    {
     "data": {
      "text/plain": [
       "True"
      ]
     },
     "execution_count": 53,
     "metadata": {},
     "output_type": "execute_result"
    }
   ],
   "source": [
    "10 < 60"
   ]
  },
  {
   "cell_type": "code",
   "execution_count": 55,
   "id": "0a5ec162-9dca-41d8-865c-14dd0c1c9286",
   "metadata": {},
   "outputs": [
    {
     "data": {
      "text/plain": [
       "False"
      ]
     },
     "execution_count": 55,
     "metadata": {},
     "output_type": "execute_result"
    }
   ],
   "source": [
    "10 > 30"
   ]
  },
  {
   "cell_type": "code",
   "execution_count": null,
   "id": "72dac4a7-488a-4037-a748-7f37fc73a533",
   "metadata": {},
   "outputs": [],
   "source": []
  }
 ],
 "metadata": {
  "kernelspec": {
   "display_name": "Python [conda env:base] *",
   "language": "python",
   "name": "conda-base-py"
  },
  "language_info": {
   "codemirror_mode": {
    "name": "ipython",
    "version": 3
   },
   "file_extension": ".py",
   "mimetype": "text/x-python",
   "name": "python",
   "nbconvert_exporter": "python",
   "pygments_lexer": "ipython3",
   "version": "3.12.7"
  }
 },
 "nbformat": 4,
 "nbformat_minor": 5
}
